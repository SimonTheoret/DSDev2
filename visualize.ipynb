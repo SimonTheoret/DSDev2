{
 "cells": [
  {
   "cell_type": "markdown",
   "metadata": {
    "id": "unbJvDNCRkWR"
   },
   "source": [
    "# IFT 6758 - Devoir 2"
   ]
  },
  {
   "cell_type": "code",
   "execution_count": 1,
   "metadata": {},
   "outputs": [],
   "source": [
    "%load_ext autoreload\n",
    "%autoreload 2\n",
    "import warnings\n",
    "warnings.filterwarnings('ignore')"
   ]
  },
  {
   "cell_type": "markdown",
   "metadata": {
    "id": "NYfjiSBBRkkz",
    "tags": []
   },
   "source": [
    "## Question 1\n",
    "\n",
    "### a)\n",
    "Commencez par utiliser les fonctions créées dans `q1.py` pour rendre les données plus informatives et lisibles. Concrètement, remplissez les cellules suivantes :\n"
   ]
  },
  {
   "cell_type": "code",
   "execution_count": 2,
   "metadata": {},
   "outputs": [],
   "source": [
    "import pandas as pd\n",
    "import numpy as np\n",
    "import time\n",
    "import matplotlib.pyplot as plt\n",
    "import seaborn as sns\n",
    "from q1 import count_labels, convert_id, convert_ids, contains_label, get_conditional_proportion\n",
    "\n",
    "sns.set(style=\"ticks\")"
   ]
  },
  {
   "cell_type": "code",
   "execution_count": 3,
   "metadata": {
    "id": "k3cbzq-MRp7Y"
   },
   "outputs": [
    {
     "data": {
      "text/html": [
       "<div>\n",
       "<style scoped>\n",
       "    .dataframe tbody tr th:only-of-type {\n",
       "        vertical-align: middle;\n",
       "    }\n",
       "\n",
       "    .dataframe tbody tr th {\n",
       "        vertical-align: top;\n",
       "    }\n",
       "\n",
       "    .dataframe thead th {\n",
       "        text-align: right;\n",
       "    }\n",
       "</style>\n",
       "<table border=\"1\" class=\"dataframe\">\n",
       "  <thead>\n",
       "    <tr style=\"text-align: right;\">\n",
       "      <th></th>\n",
       "      <th># YTID</th>\n",
       "      <th>start_seconds</th>\n",
       "      <th>end_seconds</th>\n",
       "      <th>positive_labels</th>\n",
       "    </tr>\n",
       "  </thead>\n",
       "  <tbody>\n",
       "    <tr>\n",
       "      <th>0</th>\n",
       "      <td>--4gqARaEJE</td>\n",
       "      <td>0.0</td>\n",
       "      <td>10.0</td>\n",
       "      <td>/m/068hy,/m/07q6cd_,/m/0bt9lr,/m/0jbk</td>\n",
       "    </tr>\n",
       "    <tr>\n",
       "      <th>1</th>\n",
       "      <td>--BfvyPmVMo</td>\n",
       "      <td>20.0</td>\n",
       "      <td>30.0</td>\n",
       "      <td>/m/03l9g</td>\n",
       "    </tr>\n",
       "    <tr>\n",
       "      <th>2</th>\n",
       "      <td>--U7joUcTCo</td>\n",
       "      <td>0.0</td>\n",
       "      <td>10.0</td>\n",
       "      <td>/m/01b_21</td>\n",
       "    </tr>\n",
       "    <tr>\n",
       "      <th>3</th>\n",
       "      <td>--i-y1v8Hy8</td>\n",
       "      <td>0.0</td>\n",
       "      <td>9.0</td>\n",
       "      <td>/m/04rlf,/m/09x0r,/t/dd00004,/t/dd00005</td>\n",
       "    </tr>\n",
       "    <tr>\n",
       "      <th>4</th>\n",
       "      <td>-0BIyqJj9ZU</td>\n",
       "      <td>30.0</td>\n",
       "      <td>40.0</td>\n",
       "      <td>/m/07rgt08,/m/07sq110,/t/dd00001</td>\n",
       "    </tr>\n",
       "  </tbody>\n",
       "</table>\n",
       "</div>"
      ],
      "text/plain": [
       "        # YTID   start_seconds   end_seconds  \\\n",
       "0  --4gqARaEJE             0.0          10.0   \n",
       "1  --BfvyPmVMo            20.0          30.0   \n",
       "2  --U7joUcTCo             0.0          10.0   \n",
       "3  --i-y1v8Hy8             0.0           9.0   \n",
       "4  -0BIyqJj9ZU            30.0          40.0   \n",
       "\n",
       "                           positive_labels  \n",
       "0    /m/068hy,/m/07q6cd_,/m/0bt9lr,/m/0jbk  \n",
       "1                                 /m/03l9g  \n",
       "2                                /m/01b_21  \n",
       "3  /m/04rlf,/m/09x0r,/t/dd00004,/t/dd00005  \n",
       "4         /m/07rgt08,/m/07sq110,/t/dd00001  "
      ]
     },
     "execution_count": 3,
     "metadata": {},
     "output_type": "execute_result"
    }
   ],
   "source": [
    "# Charger le fichier `audio_segments.csv` dans un DataFrame `df`\n",
    "# TODO\n",
    "df = pd.read_csv(\"./data/audio_segments.csv\")\n",
    "df.head()"
   ]
  },
  {
   "cell_type": "code",
   "execution_count": 4,
   "metadata": {
    "id": "TTvysi_WTL89"
   },
   "outputs": [
    {
     "data": {
      "text/html": [
       "<div>\n",
       "<style scoped>\n",
       "    .dataframe tbody tr th:only-of-type {\n",
       "        vertical-align: middle;\n",
       "    }\n",
       "\n",
       "    .dataframe tbody tr th {\n",
       "        vertical-align: top;\n",
       "    }\n",
       "\n",
       "    .dataframe thead th {\n",
       "        text-align: right;\n",
       "    }\n",
       "</style>\n",
       "<table border=\"1\" class=\"dataframe\">\n",
       "  <thead>\n",
       "    <tr style=\"text-align: right;\">\n",
       "      <th></th>\n",
       "      <th># YTID</th>\n",
       "      <th>start_seconds</th>\n",
       "      <th>end_seconds</th>\n",
       "      <th>positive_labels</th>\n",
       "      <th>label_count</th>\n",
       "    </tr>\n",
       "  </thead>\n",
       "  <tbody>\n",
       "    <tr>\n",
       "      <th>0</th>\n",
       "      <td>--4gqARaEJE</td>\n",
       "      <td>0.0</td>\n",
       "      <td>10.0</td>\n",
       "      <td>/m/068hy,/m/07q6cd_,/m/0bt9lr,/m/0jbk</td>\n",
       "      <td>4</td>\n",
       "    </tr>\n",
       "    <tr>\n",
       "      <th>1</th>\n",
       "      <td>--BfvyPmVMo</td>\n",
       "      <td>20.0</td>\n",
       "      <td>30.0</td>\n",
       "      <td>/m/03l9g</td>\n",
       "      <td>1</td>\n",
       "    </tr>\n",
       "    <tr>\n",
       "      <th>2</th>\n",
       "      <td>--U7joUcTCo</td>\n",
       "      <td>0.0</td>\n",
       "      <td>10.0</td>\n",
       "      <td>/m/01b_21</td>\n",
       "      <td>1</td>\n",
       "    </tr>\n",
       "    <tr>\n",
       "      <th>3</th>\n",
       "      <td>--i-y1v8Hy8</td>\n",
       "      <td>0.0</td>\n",
       "      <td>9.0</td>\n",
       "      <td>/m/04rlf,/m/09x0r,/t/dd00004,/t/dd00005</td>\n",
       "      <td>4</td>\n",
       "    </tr>\n",
       "    <tr>\n",
       "      <th>4</th>\n",
       "      <td>-0BIyqJj9ZU</td>\n",
       "      <td>30.0</td>\n",
       "      <td>40.0</td>\n",
       "      <td>/m/07rgt08,/m/07sq110,/t/dd00001</td>\n",
       "      <td>3</td>\n",
       "    </tr>\n",
       "  </tbody>\n",
       "</table>\n",
       "</div>"
      ],
      "text/plain": [
       "        # YTID  start_seconds  end_seconds  \\\n",
       "0  --4gqARaEJE            0.0         10.0   \n",
       "1  --BfvyPmVMo           20.0         30.0   \n",
       "2  --U7joUcTCo            0.0         10.0   \n",
       "3  --i-y1v8Hy8            0.0          9.0   \n",
       "4  -0BIyqJj9ZU           30.0         40.0   \n",
       "\n",
       "                           positive_labels  label_count  \n",
       "0    /m/068hy,/m/07q6cd_,/m/0bt9lr,/m/0jbk            4  \n",
       "1                                 /m/03l9g            1  \n",
       "2                                /m/01b_21            1  \n",
       "3  /m/04rlf,/m/09x0r,/t/dd00004,/t/dd00005            4  \n",
       "4         /m/07rgt08,/m/07sq110,/t/dd00001            3  "
      ]
     },
     "execution_count": 4,
     "metadata": {},
     "output_type": "execute_result"
    }
   ],
   "source": [
    "# Ajouter une colonne correspondant au nombre d'étiquettes appelée `label_count`\n",
    "# Ici, il y a un problème ennuyeux avec l'accès à la colonne positive_labels\n",
    "# TODO\n",
    "df.rename(columns = {\" start_seconds\": \"start_seconds\", \" end_seconds\": \"end_seconds\",\" positive_labels\": \"positive_labels\"}, inplace = True)\n",
    "df[\"label_count\"]= df[\"positive_labels\"].apply(count_labels)\n",
    "df.head()"
   ]
  },
  {
   "cell_type": "code",
   "execution_count": 5,
   "metadata": {
    "id": "_0DftxCDTMHG"
   },
   "outputs": [
    {
     "name": "stdout",
     "output_type": "stream",
     "text": [
      "Total duration:  126.69696521759033\n"
     ]
    }
   ],
   "source": [
    "# Ajouter une nouvelle colonne appelée `label_names` avec les noms d'étiquette traités au lieu de l'ID d'étiquette\n",
    "\n",
    "# Imprimer le temps pris pour cette opération (soit en utilisant le module time ou timeit).\n",
    "# Puisque nous n'exécutons ce code qu'une fois, ce n'est pas très problématique que cela prenne quelques minutes.\n",
    "# Cependant, pour un ensemble de données plus volumineux, cela vaudrait la peine de l'accélérer\n",
    "# (par exemple en créant un dictionnaire ID -> nom une fois et en l'utilisant).\n",
    "# TODO\n",
    "start = time.time()\n",
    "df[\"label_names\"] = df[\"positive_labels\"].apply(convert_ids)\n",
    "duration = -start + time.time()\n",
    "print(\"Total duration: \", duration)\n"
   ]
  },
  {
   "cell_type": "code",
   "execution_count": 6,
   "metadata": {
    "id": "ZYkS4XLuTQRC"
   },
   "outputs": [
    {
     "data": {
      "text/html": [
       "<div>\n",
       "<style scoped>\n",
       "    .dataframe tbody tr th:only-of-type {\n",
       "        vertical-align: middle;\n",
       "    }\n",
       "\n",
       "    .dataframe tbody tr th {\n",
       "        vertical-align: top;\n",
       "    }\n",
       "\n",
       "    .dataframe thead th {\n",
       "        text-align: right;\n",
       "    }\n",
       "</style>\n",
       "<table border=\"1\" class=\"dataframe\">\n",
       "  <thead>\n",
       "    <tr style=\"text-align: right;\">\n",
       "      <th></th>\n",
       "      <th># YTID</th>\n",
       "      <th>start_seconds</th>\n",
       "      <th>end_seconds</th>\n",
       "      <th>positive_labels</th>\n",
       "      <th>label_count</th>\n",
       "      <th>label_names</th>\n",
       "    </tr>\n",
       "  </thead>\n",
       "  <tbody>\n",
       "    <tr>\n",
       "      <th>0</th>\n",
       "      <td>--4gqARaEJE</td>\n",
       "      <td>0.0</td>\n",
       "      <td>10.0</td>\n",
       "      <td>/m/068hy,/m/07q6cd_,/m/0bt9lr,/m/0jbk</td>\n",
       "      <td>4</td>\n",
       "      <td>Domestic animals, pets|Squeak|Dog|Animal</td>\n",
       "    </tr>\n",
       "    <tr>\n",
       "      <th>1</th>\n",
       "      <td>--BfvyPmVMo</td>\n",
       "      <td>20.0</td>\n",
       "      <td>30.0</td>\n",
       "      <td>/m/03l9g</td>\n",
       "      <td>1</td>\n",
       "      <td>Hammer</td>\n",
       "    </tr>\n",
       "    <tr>\n",
       "      <th>2</th>\n",
       "      <td>--U7joUcTCo</td>\n",
       "      <td>0.0</td>\n",
       "      <td>10.0</td>\n",
       "      <td>/m/01b_21</td>\n",
       "      <td>1</td>\n",
       "      <td>Cough</td>\n",
       "    </tr>\n",
       "    <tr>\n",
       "      <th>3</th>\n",
       "      <td>--i-y1v8Hy8</td>\n",
       "      <td>0.0</td>\n",
       "      <td>9.0</td>\n",
       "      <td>/m/04rlf,/m/09x0r,/t/dd00004,/t/dd00005</td>\n",
       "      <td>4</td>\n",
       "      <td>Music|Speech|Female singing|Child singing</td>\n",
       "    </tr>\n",
       "    <tr>\n",
       "      <th>4</th>\n",
       "      <td>-0BIyqJj9ZU</td>\n",
       "      <td>30.0</td>\n",
       "      <td>40.0</td>\n",
       "      <td>/m/07rgt08,/m/07sq110,/t/dd00001</td>\n",
       "      <td>3</td>\n",
       "      <td>Chuckle, chortle|Belly laugh|Baby laughter</td>\n",
       "    </tr>\n",
       "    <tr>\n",
       "      <th>...</th>\n",
       "      <td>...</td>\n",
       "      <td>...</td>\n",
       "      <td>...</td>\n",
       "      <td>...</td>\n",
       "      <td>...</td>\n",
       "      <td>...</td>\n",
       "    </tr>\n",
       "    <tr>\n",
       "      <th>20366</th>\n",
       "      <td>zyF8TGSRvns</td>\n",
       "      <td>150.0</td>\n",
       "      <td>160.0</td>\n",
       "      <td>/m/0dwsp,/m/0dwtp,/m/0f8s22,/m/0j45pbj</td>\n",
       "      <td>4</td>\n",
       "      <td>Marimba, xylophone|Glockenspiel|Chime|Mallet p...</td>\n",
       "    </tr>\n",
       "    <tr>\n",
       "      <th>20367</th>\n",
       "      <td>zz35Va7tYmA</td>\n",
       "      <td>30.0</td>\n",
       "      <td>40.0</td>\n",
       "      <td>/m/012f08,/m/07q2z82,/m/07qmpdm,/m/0k4j</td>\n",
       "      <td>4</td>\n",
       "      <td>Motor vehicle (road)|Accelerating, revving, vr...</td>\n",
       "    </tr>\n",
       "    <tr>\n",
       "      <th>20368</th>\n",
       "      <td>zzD_oVgzKMc</td>\n",
       "      <td>30.0</td>\n",
       "      <td>40.0</td>\n",
       "      <td>/m/07pn_8q</td>\n",
       "      <td>1</td>\n",
       "      <td>Chopping (food)</td>\n",
       "    </tr>\n",
       "    <tr>\n",
       "      <th>20369</th>\n",
       "      <td>zzNdwF40ID8</td>\n",
       "      <td>70.0</td>\n",
       "      <td>80.0</td>\n",
       "      <td>/m/04rlf,/m/0790c</td>\n",
       "      <td>2</td>\n",
       "      <td>Music|Sonar</td>\n",
       "    </tr>\n",
       "    <tr>\n",
       "      <th>20370</th>\n",
       "      <td>zzbTaK7CXJY</td>\n",
       "      <td>30.0</td>\n",
       "      <td>40.0</td>\n",
       "      <td>/m/03m9d0z,/m/07qwyj0,/t/dd00092</td>\n",
       "      <td>3</td>\n",
       "      <td>Wind|Rustle|Wind noise (microphone)</td>\n",
       "    </tr>\n",
       "  </tbody>\n",
       "</table>\n",
       "<p>20371 rows × 6 columns</p>\n",
       "</div>"
      ],
      "text/plain": [
       "            # YTID  start_seconds  end_seconds  \\\n",
       "0      --4gqARaEJE            0.0         10.0   \n",
       "1      --BfvyPmVMo           20.0         30.0   \n",
       "2      --U7joUcTCo            0.0         10.0   \n",
       "3      --i-y1v8Hy8            0.0          9.0   \n",
       "4      -0BIyqJj9ZU           30.0         40.0   \n",
       "...            ...            ...          ...   \n",
       "20366  zyF8TGSRvns          150.0        160.0   \n",
       "20367  zz35Va7tYmA           30.0         40.0   \n",
       "20368  zzD_oVgzKMc           30.0         40.0   \n",
       "20369  zzNdwF40ID8           70.0         80.0   \n",
       "20370  zzbTaK7CXJY           30.0         40.0   \n",
       "\n",
       "                               positive_labels  label_count  \\\n",
       "0        /m/068hy,/m/07q6cd_,/m/0bt9lr,/m/0jbk            4   \n",
       "1                                     /m/03l9g            1   \n",
       "2                                    /m/01b_21            1   \n",
       "3      /m/04rlf,/m/09x0r,/t/dd00004,/t/dd00005            4   \n",
       "4             /m/07rgt08,/m/07sq110,/t/dd00001            3   \n",
       "...                                        ...          ...   \n",
       "20366   /m/0dwsp,/m/0dwtp,/m/0f8s22,/m/0j45pbj            4   \n",
       "20367  /m/012f08,/m/07q2z82,/m/07qmpdm,/m/0k4j            4   \n",
       "20368                               /m/07pn_8q            1   \n",
       "20369                        /m/04rlf,/m/0790c            2   \n",
       "20370         /m/03m9d0z,/m/07qwyj0,/t/dd00092            3   \n",
       "\n",
       "                                             label_names  \n",
       "0               Domestic animals, pets|Squeak|Dog|Animal  \n",
       "1                                                 Hammer  \n",
       "2                                                  Cough  \n",
       "3              Music|Speech|Female singing|Child singing  \n",
       "4             Chuckle, chortle|Belly laugh|Baby laughter  \n",
       "...                                                  ...  \n",
       "20366  Marimba, xylophone|Glockenspiel|Chime|Mallet p...  \n",
       "20367  Motor vehicle (road)|Accelerating, revving, vr...  \n",
       "20368                                    Chopping (food)  \n",
       "20369                                        Music|Sonar  \n",
       "20370                Wind|Rustle|Wind noise (microphone)  \n",
       "\n",
       "[20371 rows x 6 columns]"
      ]
     },
     "execution_count": 6,
     "metadata": {},
     "output_type": "execute_result"
    }
   ],
   "source": [
    "# Affichez le DataFrame et enregistrez-le dans `audio_segments_clean.csv` (sans index)\n",
    "df.to_csv(\"audio_segments_clean.csv\", index = False)\n",
    "df\n",
    "# TODO"
   ]
  },
  {
   "cell_type": "markdown",
   "metadata": {
    "id": "o6TlARA6TdKW"
   },
   "source": [
    "### b)\n",
    "\n",
    "Ensuite, à l'aide du DataFrame propre, remplissez les cellules suivantes pour mieux comprendre la distribution des étiquettes dans l'ensemble de données. Pour chaque graphique ci-dessous, assurez-vous d'inclure les **noms d'axe** appropriés et un **titre**."
   ]
  },
  {
   "cell_type": "code",
   "execution_count": 7,
   "metadata": {
    "id": "JENamq5JUeow"
   },
   "outputs": [
    {
     "data": {
      "image/png": "[encoded data removed]",
      "text/plain": [
       "<Figure size 640x480 with 1 Axes>"
      ]
     },
     "metadata": {},
     "output_type": "display_data"
    }
   ],
   "source": [
    "# À l'aide de seaborn, créez un histogramme du nombre d'étiquettes des rangées dans le DataFrame\n",
    "# TODO\n",
    "plot = sns.histplot(df, x  = \"label_count\", ).set(xlabel = \"Nombre d'étiquettes\", ylabel = \"Fréquence\", title=\"Fréquence du nombre d'étiquettes\" )\n",
    "plt.show()"
   ]
  },
  {
   "cell_type": "markdown",
   "metadata": {},
   "source": [
    "Suivez les étapes ci-dessous pour créer un heatmap montrant la \"corrélation\" entre différentes étiquettes.\n",
    "- Plus précisément, chaque cellule de la heatmap doit correspondre à la probabilité qu'un échantillon avec l'étiquette de ligne correspondante ait également l'étiquette de colonne correspondante.\n",
    "- Considérez simplement les étiquettes [\"Piano\", \"Classical music\", \"Speech\", \"Conversation\", \"Screaming\"].\n",
    "\n",
    "Votre graphique final devrait ressembler à ceci :\n",
    "\n",
    "![alt text](images/heatmap.png \"Heatmap\")"
   ]
  },
  {
   "cell_type": "code",
   "execution_count": 8,
   "metadata": {
    "id": "yJ284gr9Uh7G"
   },
   "outputs": [
    {
     "data": {
      "image/png": "[encoded data removed]",
      "text/plain": [
       "<Figure size 640x480 with 2 Axes>"
      ]
     },
     "metadata": {},
     "output_type": "display_data"
    }
   ],
   "source": [
    "labels = [\"Piano\", \"Music\", \"Speech\", \"Conversation\", \"Screaming\"]\n",
    "\n",
    "# Il y a plusieurs façons d'aborder cela, la façon que nous recommandons ici est de construire d'abord une grille 2D où chaque\n",
    "# value est la valeur de corrélation entre la ligne/colonne correspondante à l'aide des fonctions créées dans q1.py.\n",
    "\n",
    "# TODO\n",
    "heat_labels = []\n",
    "for label1 in labels:\n",
    "    heat = [get_conditional_proportion(df[\"label_names\"], label1, label2) for label2 in labels]\n",
    "    heat_labels.append(heat)\n",
    "ax = plt.axes()\n",
    "sns.heatmap(heat_labels, xticklabels= labels, yticklabels = labels, ax = ax)\n",
    "ax.set_title(\"Probabililté conditionnelle entre étiquettes\")\n",
    "plt.show()\n",
    "# Ensuite, à l'aide de sns.heatmap, créez la heatmap, en profitant de xticklabels et yticklabels pour définir les noms des étiquettes comme valeurs de graduation\n",
    "\n",
    "# TODO"
   ]
  },
  {
   "cell_type": "markdown",
   "metadata": {
    "id": "qBnI-CH0VGkm"
   },
   "source": [
    "## Question 2\n",
    "La question 2 n'a pas de composante notebook, remplissez simplement le fichier `q2.py`."
   ]
  },
  {
   "cell_type": "markdown",
   "metadata": {
    "id": "M6EIMwUCMmON"
   },
   "source": [
    "## Question 3\n",
    "\n",
    "Téléchargez l'audio pour les étiquettes suivantes à l'aide des fonction créées dans `q3.py`"
   ]
  },
  {
   "cell_type": "code",
   "execution_count": 9,
   "metadata": {},
   "outputs": [
    {
     "ename": "SyntaxError",
     "evalue": "invalid syntax (q3.py, line 9)",
     "output_type": "error",
     "traceback": [
      "Traceback \u001b[0;36m(most recent call last)\u001b[0m:\n",
      "\u001b[0m  File \u001b[1;32m~/Documents/a2023/DS/dev2/venv/lib/python3.11/site-packages/IPython/core/interactiveshell.py:3526\u001b[0m in \u001b[1;35mrun_code\u001b[0m\n    exec(code_obj, self.user_global_ns, self.user_ns)\u001b[0m\n",
      "\u001b[0;36m  Cell \u001b[0;32mIn[9], line 1\u001b[0;36m\n\u001b[0;31m    from q3 import data_pipeline, rename_files, filter_df\u001b[0;36m\n",
      "\u001b[0;36m  File \u001b[0;32m~/Documents/a2023/DS/dev2/q3.py:9\u001b[0;36m\u001b[0m\n\u001b[0;31m    <<<<<<< HEAD\u001b[0m\n\u001b[0m    ^\u001b[0m\n\u001b[0;31mSyntaxError\u001b[0m\u001b[0;31m:\u001b[0m invalid syntax\n"
     ]
    }
   ],
   "source": [
    "from q3 import data_pipeline, rename_files, filter_df"
   ]
  },
  {
   "cell_type": "code",
   "execution_count": null,
   "metadata": {
    "id": "q5YLBNpYMtyL"
   },
   "outputs": [],
   "source": [
    "# Téléchargez \"Cough\"\n",
    "\n",
    "# TODO\n",
    "\n",
    "# Renommez les fichiers pour inclure le début et fin des échantillons ainsi que la durée\n",
    "\n",
    "# TODO"
   ]
  },
  {
   "cell_type": "code",
   "execution_count": null,
   "metadata": {
    "id": "69FxgrpCMzjs"
   },
   "outputs": [],
   "source": [
    "# Téléchargez \"Hammer\"\n",
    "\n",
    "# TODO\n",
    "\n",
    "# Renommez les fichiers pour inclure le début et fin des échantillons ainsi que la durée\n",
    "\n",
    "# TODO"
   ]
  },
  {
   "cell_type": "markdown",
   "metadata": {},
   "source": [
    "Comme vous l'avez probablement remarqué, le téléchargement de toutes ces données audio est lent (et en tant que tel, nous vous avons uniquement demandé de télécharger 2 des étiquettes). Dans de nombreux cas, il est possible d'obtenir des augmentations de performances significatives en utilisant soit le multiprocessing (https://docs.python.org/3/library/multiprocessing.html) soit le multithreading (https://docs.python.org/3/library/threading.html)  qui pourrait par exemple vous permettre de télécharger plusieurs fichiers audio en parallèle.\n",
    "\n",
    "En règle générale, utilisez le multithreading lorsque vos programmes sont bloqués par l'IO (par exemple ici) et le multiprocessing lorsqu'ils sont bloqués CPU (et utilisez ainsi tous les cores de votre CPU)."
   ]
  },
  {
   "cell_type": "markdown",
   "metadata": {
    "id": "Ier3C8okRGjp"
   },
   "source": [
    "## Question 4\n",
    "Pour les cellules suivantes, utilisez l'ID \"0GNNFBrRz1E\". Complétez les fonctions et exécutez les cellules fournies ci-dessous."
   ]
  },
  {
   "cell_type": "code",
   "execution_count": null,
   "metadata": {},
   "outputs": [],
   "source": [
    "import librosa"
   ]
  },
  {
   "cell_type": "code",
   "execution_count": null,
   "metadata": {
    "id": "UDG5TVBTR7yb"
   },
   "outputs": [],
   "source": [
    "# Jouez le segment audio dans le notebook en utilisant\n",
    "# https://ipython.org/ipython-doc/dev/api/generated/IPython.display.html#IPython.display.Audio\n",
    "\n",
    "# TODO"
   ]
  },
  {
   "cell_type": "markdown",
   "metadata": {
    "id": "Jb8csrLuT8ej"
   },
   "source": [
    "Une façon de visualiser l'audio consiste à utiliser des spectrogrammes mel. Brièvement, les spectrogrammes Mel convertissent l'audio en une image 2D grâce à l'utilisation de Fourier Transforms (plus de détails peuvent être trouvés ici: https://medium.com/analytics-vidhya/understanding-the-mel-spectrogram-fca2afa2ce53)."
   ]
  },
  {
   "cell_type": "code",
   "execution_count": null,
   "metadata": {
    "id": "2NKfcwYDTQl9"
   },
   "outputs": [],
   "source": [
    "stft_hopsize = 128\n",
    "n_fft = 512\n",
    "sample_rate = 16000\n",
    "\n",
    "def to_log_scale(mel: np.ndarray) -> np.ndarray:\n",
    "    mel = np.log(mel + 1e-6)/2.0\n",
    "    return mel\n",
    "\n",
    "def create_mel_spectrogram(mp3_path: str) -> np.ndarray:\n",
    "    \"\"\" \n",
    "    CETTE FONCTION VOUS EST FOURNIE POUR VOUS AIDER.\n",
    "    Vous devez toutefois remplir la fonction plot_audio() ci-dessous\n",
    "    \"\"\"\n",
    "    data, sr = librosa.load(mp3_path, dtype='float32')\n",
    "    librosa_mel = librosa.feature.melspectrogram(y=data, sr=sr, n_fft=512, hop_length=128)\n",
    "    return to_log_scale(librosa_mel)\n",
    "\n",
    "create_mel_spectrogram(\"Hammer_cut/0GNNFBrRz1E_40_50_10.mp3\")"
   ]
  },
  {
   "cell_type": "markdown",
   "metadata": {},
   "source": [
    "Les données audio peuvent également être visualisées en regardant la forme d'onde (c'est-à-dire sous la forme d'un tracé linéaire des valeurs d'amplitude). Nous combinerons les deux méthodes de visualisation ci-dessous. Le graphique résultant devrait ressembler à :\n",
    "![alt text](images/combined_plot.png \"Combined Plot\")"
   ]
  },
  {
   "cell_type": "code",
   "execution_count": null,
   "metadata": {
    "id": "PMSzMEAfSG_N"
   },
   "outputs": [],
   "source": [
    "def plot_audio(mp3_path: str) -> None:\n",
    "    \"\"\" \n",
    "    En utilisant matplotlib et create_mel_spectrogram() écrivez une fonction qui prend un mp3_path et trace\n",
    "    à la fois la forme d'onde (graphique linéaire des amplitudes) et le spectrogramme mel côte à côte en tant que subplots.\n",
    "\n",
    "    Utilisez le mp3_path comme titre principal unique pour tout le graphique\n",
    "\n",
    "    Indice: Pour le graphique linéaire des amplitudes, essayez de juste de .plot les données retournées par librosa\n",
    "    \"\"\"\n",
    "    # TODO\n",
    "    \n",
    "\n",
    "plot_audio(\"Hammer_cut/0GNNFBrRz1E_40_50_10.mp3\")"
   ]
  }
 ],
 "metadata": {
  "colab": {
   "collapsed_sections": [],
   "provenance": []
  },
  "kernelspec": {
   "display_name": "dev2venv",
   "language": "python",
   "name": "dev2venv"
  },
  "language_info": {
   "codemirror_mode": {
    "name": "ipython",
    "version": 3
   },
   "file_extension": ".py",
   "mimetype": "text/x-python",
   "name": "python",
   "nbconvert_exporter": "python",
   "pygments_lexer": "ipython3",
   "version": "3.11.5"
  },
  "vscode": {
   "interpreter": {
    "hash": "8625a912581caad8d2f5c751bfe9fc2f2863ef19c34b4cfe64ba09a57ac03960"
   }
  }
 },
 "nbformat": 4,
 "nbformat_minor": 4
}
